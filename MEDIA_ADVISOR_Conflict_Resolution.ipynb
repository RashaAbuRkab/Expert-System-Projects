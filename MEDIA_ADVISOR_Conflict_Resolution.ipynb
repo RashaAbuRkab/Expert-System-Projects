{
 "cells": [
  {
   "cell_type": "markdown",
   "metadata": {
    "colab": {
     "base_uri": "https://localhost:8080/"
    },
    "id": "wXkbu9vQ-ocd",
    "outputId": "b61cb596-dda4-4097-e2c0-166e978994f9"
   },
   "source": [
    "# Conflict Resolution for Media-Advisor System"
   ]
  },
  {
   "cell_type": "markdown",
   "metadata": {},
   "source": [
    "**System conflict scenario:**\n",
    "\n",
    "We have a group of data analysts and we want the best training type for them.\n",
    "\n",
    "- Data analysts deal with numbers, computer programs, and formulas, and their main job is analysis and evaluation.\n",
    "\n",
    "When the system is running, the following conflict appears:\n",
    "\n",
    "-----------------------------------------------------------\n",
    "**Rule:**\n",
    "\n",
    "**if the stimulus_situation symbolic**\n",
    "\n",
    "**and the stimulus_response analytical**\n",
    "\n",
    "**and feedback is required**\n",
    "\n",
    "**then medium is lecture tutorial**\n",
    "\n",
    "-------------------------------------------------------------------------\n",
    "\n",
    "**Rule:**\n",
    "\n",
    "**if the stimulus_situation symbolic**\n",
    "\n",
    "**and the stimulus_response analytical**\n",
    "\n",
    "**and feedback is required**\n",
    "\n",
    "**then medium is workshop**\n",
    "\n",
    "--------------------------------------------------------------------------------\n",
    "\n",
    "### Reason for the conflict:\n",
    "\n",
    "- Data analysts sometimes need lectures to learn statistical tools and theoretical concepts.  \n",
    "- On the other hand, they need practical implementation of the analyses on different programs such as Power BI.\n",
    "\n",
    "#### **The solution to the conflict is adding information such as \"Does it require practical implementation?\"**\n"
   ]
  },
  {
   "cell_type": "code",
   "execution_count": 9,
   "metadata": {
    "id": "EEimgl_t-5jW"
   },
   "outputs": [],
   "source": [
    "#pip install experta\n",
    "#!sed -i 's/collections.Mapping/collections.abc.Mapping/' /usr/local/lib/python3.10/dist-packages/frozendict/__init__.py"
   ]
  },
  {
   "cell_type": "code",
   "execution_count": 2,
   "metadata": {
    "colab": {
     "base_uri": "https://localhost:8080/"
    },
    "id": "2gdjHPgH-dW3",
    "outputId": "af62e270-2e11-4b81-d9c0-aa1e2f0a2dd2"
   },
   "outputs": [
    {
     "name": "stdout",
     "output_type": "stream",
     "text": [
      "Initializing the Media Advisor Expert System...\n",
      "\n"
     ]
    }
   ],
   "source": [
    "from experta import *\n",
    "\n",
    "class Environment(Fact):\n",
    "    \"\"\"Represents the environment a trainee interacts with.\"\"\"\n",
    "    pass\n",
    "\n",
    "class Job(Fact):\n",
    "    \"\"\"Represents the job type for the trainee.\"\"\"\n",
    "    pass\n",
    "\n",
    "class Feedback(Fact):\n",
    "    \"\"\"Indicates whether feedback is required.\"\"\"\n",
    "    pass\n",
    "\n",
    "######## new fact ######\n",
    "class Is_Practical(Fact):\n",
    "    \"\"\"Indicates whether implementation is practically required\"\"\"\n",
    "    pass\n",
    "#######################\n",
    "class Medium(Fact):\n",
    "    \"\"\"Represents the medium selected based on rules.\"\"\"\n",
    "    pass\n",
    "\n",
    "class MediaAdvisor(KnowledgeEngine):\n",
    "    def __init__(self):\n",
    "        super().__init__()\n",
    "        print(\"Initializing the Media Advisor Expert System...\\n\")\n",
    "# Rule 1\n",
    "    @Rule(Environment(environment='papers') |\n",
    "          Environment(environment='manuals') |\n",
    "          Environment(environment='documents') |\n",
    "          Environment(environment='textbooks'))\n",
    "    def verbal(self):\n",
    "        print(\"Rule triggered: Environment is 'verbal'.\")\n",
    "        self.declare(Fact(stimulus_situation='verbal'))\n",
    "\n",
    "# Rule 2\n",
    "    @Rule(Environment(environment='pictures') |\n",
    "          Environment(environment='illustrations') |\n",
    "          Environment(environment='photographs') |\n",
    "          Environment(environment='diagrams'))\n",
    "    def visual(self):\n",
    "        print(\"Rule triggered: Environment is 'visual'.\")\n",
    "        self.declare(Fact(stimulus_situation='visual'))\n",
    "# Rule 3\n",
    "    @Rule(Environment(environment='machines') |\n",
    "          Environment(environment='buildings') |\n",
    "          Environment(environment='tools'))\n",
    "    def physical_object(self):\n",
    "        print(\"Rule triggered: Environment is a 'physical object'.\")\n",
    "        self.declare(Fact(stimulus_situation='physical object'))\n",
    "# Rule 4\n",
    "    @Rule(Environment(environment='numbers') |\n",
    "          Environment(environment='formulas') |\n",
    "          Environment(environment='computer programs'))\n",
    "    def symbolic(self):\n",
    "        print(\"Rule triggered: Environment is 'symbolic'.\")\n",
    "        self.declare(Fact(stimulus_situation='symbolic'))\n",
    "# Rule 5\n",
    "    @Rule(Job(job='lecturing') |\n",
    "          Job(job='advising') |\n",
    "          Job(job='counselling'))\n",
    "    def oral_response(self):\n",
    "        print(\"Rule triggered: Job requires 'oral' response.\")\n",
    "        self.declare(Fact(stimulus_response='oral'))\n",
    "# Rule 6\n",
    "    @Rule(Job(job='building') |\n",
    "          Job(job='repairing') |\n",
    "          Job(job='troubleshooting'))\n",
    "    def hands_on(self):\n",
    "        print(\"Rule triggered: Job requires 'hands-on' response.\")\n",
    "        self.declare(Fact(stimulus_response='hands-on'))\n",
    "# Rule 7\n",
    "    @Rule(Job(job='writing') |\n",
    "          Job(job='typing') |\n",
    "          Job(job='drawing'))\n",
    "    def documented_response(self):\n",
    "        print(\"Rule triggered: Job requires 'documented' response.\")\n",
    "        self.declare(Fact(stimulus_response='documented'))\n",
    "# Rule 8\n",
    "    @Rule(Job(job='evaluating') |\n",
    "          Job(job='reasoning') |\n",
    "          Job(job='investigating'))\n",
    "    def analytical_response(self):\n",
    "        print(\"Rule triggered: Job requires 'analytical' response.\")\n",
    "        self.declare(Fact(stimulus_response='analytical'))\n",
    "       \n",
    "        \n",
    "# Rule 1\n",
    "    @Rule(Fact(stimulus_situation='symbolic'),\n",
    "          Fact(stimulus_response='analytical'),\n",
    "          Feedback(feedback='required'),\n",
    "          Is_Practical(practical = 'not required'))\n",
    "    def lecture_tutorial_symbolic(self):\n",
    "        print(\"Final Rule triggered: Selecting medium 'Lecture - Tutorial' for symbolic environment.\")\n",
    "        self.declare(Medium(medium='lecture - tutorial'))\n",
    "        print(\"Recommended Medium: Lecture - Tutorial\\n\")\n",
    "        \n",
    "# Rule 2\n",
    "    @Rule(Fact(stimulus_situation='symbolic'),\n",
    "          Fact(stimulus_response='analytical'),\n",
    "          Feedback(feedback='required'),\n",
    "         Is_Practical(practical = 'required'))\n",
    "    def workshop(self):\n",
    "            print(\"Final Rule triggered: Selecting medium 'Workshop'.\")\n",
    "            self.declare(Medium(medium='workshop'))\n",
    "            print(\"Recommended Medium: Workshop\\n\")\n",
    "            \n",
    "            \n",
    "advisor = MediaAdvisor()"
   ]
  },
  {
   "cell_type": "code",
   "execution_count": 8,
   "metadata": {
    "colab": {
     "base_uri": "https://localhost:8080/"
    },
    "id": "osmzUAiG_4zq",
    "outputId": "4761fcdb-70fe-46a1-a25e-e8b32ebbb175"
   },
   "outputs": [
    {
     "name": "stdout",
     "output_type": "stream",
     "text": [
      "Test Case 2:\n",
      "Rule triggered: Job requires 'analytical' response.\n",
      "Rule triggered: Environment is 'symbolic'.\n",
      "Final Rule triggered: Selecting medium 'Lecture - Tutorial' for symbolic environment.\n",
      "Recommended Medium: Lecture - Tutorial\n",
      "\n"
     ]
    }
   ],
   "source": [
    "# Test Case 1: Workshop (symbolic, analytical, Feedback required, Not Practical)\n",
    "print(\"Test Case 1:\")\n",
    "advisor.reset()\n",
    "advisor.declare(Environment(environment='numbers'))\n",
    "advisor.declare(Job(job='evaluating'))\n",
    "advisor.declare(Feedback(feedback='required'))\n",
    "advisor.declare(Is_Practical(practical = 'not required'))\n",
    "\n",
    "advisor.run()"
   ]
  },
  {
   "cell_type": "code",
   "execution_count": 9,
   "metadata": {
    "colab": {
     "base_uri": "https://localhost:8080/"
    },
    "id": "cKQK7UUY_6jR",
    "outputId": "847e8782-1179-4c60-e1a5-a11bb0b26db3"
   },
   "outputs": [
    {
     "name": "stdout",
     "output_type": "stream",
     "text": [
      "Test Case 2:\n",
      "Rule triggered: Job requires 'analytical' response.\n",
      "Rule triggered: Environment is 'symbolic'.\n",
      "Final Rule triggered: Selecting medium 'Workshop'.\n",
      "Recommended Medium: Workshop\n",
      "\n"
     ]
    }
   ],
   "source": [
    "# Test Case 2: Workshop (symbolic, analytical, Feedback required, Practical)\n",
    "\n",
    "print(\"Test Case 2:\")\n",
    "advisor.reset()\n",
    "advisor.declare(Environment(environment='numbers'))\n",
    "advisor.declare(Job(job='evaluating'))\n",
    "advisor.declare(Feedback(feedback='required'))\n",
    "advisor.declare(Is_Practical(practical = 'required'))\n",
    "\n",
    "advisor.run()"
   ]
  }
 ],
 "metadata": {
  "colab": {
   "provenance": []
  },
  "kernelspec": {
   "display_name": "Python 3 (ipykernel)",
   "language": "python",
   "name": "python3"
  },
  "language_info": {
   "codemirror_mode": {
    "name": "ipython",
    "version": 3
   },
   "file_extension": ".py",
   "mimetype": "text/x-python",
   "name": "python",
   "nbconvert_exporter": "python",
   "pygments_lexer": "ipython3",
   "version": "3.9.7"
  }
 },
 "nbformat": 4,
 "nbformat_minor": 1
}
